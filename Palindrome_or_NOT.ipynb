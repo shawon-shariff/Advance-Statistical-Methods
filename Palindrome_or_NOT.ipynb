{
  "nbformat": 4,
  "nbformat_minor": 0,
  "metadata": {
    "colab": {
      "name": "Palindrome or NOT.ipynb",
      "provenance": [],
      "authorship_tag": "ABX9TyNzrfzdZc6vXvHaNZIHqfOl",
      "include_colab_link": true
    },
    "kernelspec": {
      "name": "python3",
      "display_name": "Python 3"
    },
    "language_info": {
      "name": "python"
    }
  },
  "cells": [
    {
      "cell_type": "markdown",
      "metadata": {
        "id": "view-in-github",
        "colab_type": "text"
      },
      "source": [
        "<a href=\"https://colab.research.google.com/github/shawon-shariff/Advance-Statistical-Methods/blob/master/Palindrome_or_NOT.ipynb\" target=\"_parent\"><img src=\"https://colab.research.google.com/assets/colab-badge.svg\" alt=\"Open In Colab\"/></a>"
      ]
    },
    {
      "cell_type": "code",
      "metadata": {
        "colab": {
          "base_uri": "https://localhost:8080/"
        },
        "id": "imTjbc4oElDw",
        "outputId": "f122595c-1109-4edc-aaed-7913ed324dcf"
      },
      "source": [
        "\n",
        "def isPalindrome(s):\n",
        "\n",
        "     \n",
        "\n",
        "    # Using predefined function to \n",
        "\n",
        "    # reverse to string print(s)\n",
        "    str = s.lower()\n",
        "    rev = ''.join(reversed(str))\n",
        " \n",
        "\n",
        "    # Checking if both string are \n",
        "\n",
        "    # equal or not\n",
        "\n",
        "    if (str == rev):\n",
        "\n",
        "        print (\"Yes. The word \"+str+\" is a Palindrome\")\n",
        "\n",
        "    else:\n",
        "        print (\"No. The word \"+str+\" is NOT a palindrome\")\n",
        "\n",
        "\n",
        "s = input()\n",
        "ans = isPalindrome(s)"
      ],
      "execution_count": 11,
      "outputs": [
        {
          "output_type": "stream",
          "name": "stdout",
          "text": [
            "Malayalam\n",
            "Yes. The word malayalam is a Palindrome\n"
          ]
        }
      ]
    }
  ]
}