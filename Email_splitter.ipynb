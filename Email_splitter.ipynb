{
  "nbformat": 4,
  "nbformat_minor": 0,
  "metadata": {
    "colab": {
      "name": "Email_splitter.ipynb",
      "provenance": [],
      "authorship_tag": "ABX9TyPvZgFJCnR2Oodjq4+KZ6H+",
      "include_colab_link": true
    },
    "kernelspec": {
      "name": "python3",
      "display_name": "Python 3"
    },
    "language_info": {
      "name": "python"
    }
  },
  "cells": [
    {
      "cell_type": "markdown",
      "metadata": {
        "id": "view-in-github",
        "colab_type": "text"
      },
      "source": [
        "<a href=\"https://colab.research.google.com/github/shawon-shariff/Advance-Statistical-Methods/blob/master/Email_splitter.ipynb\" target=\"_parent\"><img src=\"https://colab.research.google.com/assets/colab-badge.svg\" alt=\"Open In Colab\"/></a>"
      ]
    },
    {
      "cell_type": "code",
      "metadata": {
        "colab": {
          "base_uri": "https://localhost:8080/"
        },
        "id": "aWj13zdlEnCt",
        "outputId": "384435b4-2d07-4db4-b0f2-63d6ccac6c81"
      },
      "source": [
        "lst = [\"random1@gmail.com\",\"random2@yahoo.com\"]\n",
        "for i in lst:\n",
        "    split = i.split('@')\n",
        "    domain = split[1]\n",
        "    user = split[0]\n",
        "    print(\"username : \",user)\n",
        "    print(\"domain : \", domain)\n",
        "    print(\"\\n\")"
      ],
      "execution_count": 4,
      "outputs": [
        {
          "output_type": "stream",
          "name": "stdout",
          "text": [
            "username :  random1\n",
            "domain :  gmail.com\n",
            "\n",
            "\n",
            "username :  random2\n",
            "domain :  yahoo.com\n",
            "\n",
            "\n"
          ]
        }
      ]
    }
  ]
}